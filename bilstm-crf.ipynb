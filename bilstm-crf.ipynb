{
 "cells": [
  {
   "cell_type": "code",
   "execution_count": 2,
   "metadata": {},
   "outputs": [],
   "source": [
    "MAX_SENTENCE_LENGHT = 10"
   ]
  },
  {
   "cell_type": "code",
   "execution_count": 3,
   "metadata": {},
   "outputs": [
    {
     "data": {
      "text/plain": [
       "<torch._C.Generator at 0x7f68e252ad38>"
      ]
     },
     "execution_count": 3,
     "metadata": {},
     "output_type": "execute_result"
    }
   ],
   "source": [
    "import torch\n",
    "import torch.autograd as autograd\n",
    "import torch.nn as nn\n",
    "import torch.optim as optim\n",
    "import numpy as np\n",
    "import pdb\n",
    "\n",
    "np.random.seed(0)\n",
    "torch.manual_seed(42)\n",
    "\n",
    "# https://pytorch.org/tutorials/beginner/nlp/advanced_tutorial.html"
   ]
  },
  {
   "cell_type": "markdown",
   "metadata": {},
   "source": [
    "# Dataloader conll-format"
   ]
  },
  {
   "cell_type": "code",
   "execution_count": 4,
   "metadata": {},
   "outputs": [],
   "source": [
    "from utils.load_vocab import *"
   ]
  },
  {
   "cell_type": "markdown",
   "metadata": {},
   "source": [
    "### Load vocabs"
   ]
  },
  {
   "cell_type": "code",
   "execution_count": 5,
   "metadata": {},
   "outputs": [
    {
     "name": "stdout",
     "output_type": "stream",
     "text": [
      "/ist/users/weerayutb/models/baseline/test_hypothesis/BiLSTM_CRF02\r\n"
     ]
    }
   ],
   "source": [
    "!pwd"
   ]
  },
  {
   "cell_type": "code",
   "execution_count": 6,
   "metadata": {},
   "outputs": [
    {
     "name": "stdout",
     "output_type": "stream",
     "text": [
      "(0, 'ฮัลโหล') ('ฮัลโหล', 0)\n",
      "(1, 'ล่วงหน้า') ('ล่วงหน้า', 1)\n",
      "(2, 'รูด') ('รูด', 2)\n",
      "(3, 'ทุจริต') ('ทุจริต', 3)\n",
      "(4, 'กระสุนปืน') ('กระสุนปืน', 4)\n",
      "(5, 'เจ้าฟ้า') ('เจ้าฟ้า', 5)\n",
      "(6, 'ความคิดสร้างสรรค์') ('ความคิดสร้างสรรค์', 6)\n",
      "(7, 'รูปธรรม') ('รูปธรรม', 7)\n",
      "(8, 'กัน') ('กัน', 8)\n",
      "(9, 'การค้า') ('การค้า', 9)\n"
     ]
    }
   ],
   "source": [
    "path_train = '/ist/users/weerayutb/datasets/ner_small_set_BIOES/sm_ner.train.txt'\n",
    "path_dev   = '/ist/users/weerayutb/datasets/ner_small_set_BIOES/sm_ner.dev.txt'\n",
    "path_test  = '/ist/users/weerayutb/datasets/ner_small_set_BIOES/sm_ner.test.txt'\n",
    "\n",
    "train, words, chars, tags = load_conll_format_nested_ner(path_train, MAX_LEVEL=1, NE_TYPE='flatten')\n",
    "\n",
    "UNK = \"$UNK$\"\n",
    "NUM = \"$NUM$\"\n",
    "NONE = \"O\"\n",
    "\n",
    "words = [NUM, UNK] + words\n",
    "tags  = tags\n",
    "\n",
    "words = list(set(words))\n",
    "# tags  = list(set(tags))\n",
    "\n",
    "idx2word  = {idx: word for idx, word in enumerate(words)}\n",
    "idx2tag   = {idx: tag  for idx, tag  in enumerate(tags)}\n",
    "idx2char  = {idx: char for idx, char in enumerate(chars)}\n",
    "\n",
    "word2idx  = {word:idx for idx, word in idx2word.items()}\n",
    "tag2idx   = {tag :idx for idx, tag  in idx2tag.items()}\n",
    "char2idx  = {char:idx for idx, char in idx2char.items()}\n",
    "\n",
    "len(train)\n",
    "\n",
    "idx2tag\n",
    "\n",
    "words[0:8], chars[0:8], tags[0:8]\n",
    "\n",
    "for item1, item2 in zip(idx2word.items(), word2idx.items()):\n",
    "    if list(item1)[0] == 10 : break\n",
    "    print(item1, item2)"
   ]
  },
  {
   "cell_type": "code",
   "execution_count": 7,
   "metadata": {},
   "outputs": [
    {
     "data": {
      "text/plain": [
       "[[['ไทย', 'B-placeName'],\n",
       "  ['ให้', 'O'],\n",
       "  ['ยั่งยืน', 'O'],\n",
       "  ['_', 'O'],\n",
       "  ['โดย', 'O'],\n",
       "  ['ขอให้', 'O']],\n",
       " [['ที่', 'O'],\n",
       "  ['ตลาดหลักทรัพย์', 'B-orgName'],\n",
       "  ['แห่ง', 'I-orgName'],\n",
       "  ['ประเทศ', 'I-orgName'],\n",
       "  ['ไทย', 'I-orgName']],\n",
       " [['ตลาดหลักทรัพย์', 'B-orgName'],\n",
       "  ['แห่ง', 'I-orgName'],\n",
       "  ['ประเทศ', 'I-orgName'],\n",
       "  ['ไทย', 'I-orgName']]]"
      ]
     },
     "execution_count": 7,
     "metadata": {},
     "output_type": "execute_result"
    }
   ],
   "source": [
    "train[6:9]"
   ]
  },
  {
   "cell_type": "markdown",
   "metadata": {},
   "source": [
    "### Convert dataset text 2 idx "
   ]
  },
  {
   "cell_type": "code",
   "execution_count": 8,
   "metadata": {},
   "outputs": [],
   "source": [
    "from utils.convert2idx import *\n",
    "from utils.dataloader_conll import *"
   ]
  },
  {
   "cell_type": "code",
   "execution_count": 9,
   "metadata": {},
   "outputs": [],
   "source": [
    "processing_word = get_processing_word( word2idx, char2idx, lowercase=True, chars=True)\n",
    "processing_tag  = get_processing_word( tag2idx, lowercase=False, allow_unk=False)"
   ]
  },
  {
   "cell_type": "code",
   "execution_count": 10,
   "metadata": {},
   "outputs": [],
   "source": [
    "# create datasets\n",
    "trainset = CoNLLDataset(path_train, processing_word, processing_tag, None, True)\n",
    "testset  = CoNLLDataset(path_test, processing_word, processing_tag, None, True)\n",
    "devset   = CoNLLDataset(path_dev, processing_word, processing_tag, None, True)"
   ]
  },
  {
   "cell_type": "code",
   "execution_count": 11,
   "metadata": {},
   "outputs": [
    {
     "data": {
      "text/plain": [
       "[[['ไทย', 'B-placeName'],\n",
       "  ['ให้', 'O'],\n",
       "  ['ยั่งยืน', 'O'],\n",
       "  ['_', 'O'],\n",
       "  ['โดย', 'O'],\n",
       "  ['ขอให้', 'O']],\n",
       " [['ที่', 'O'],\n",
       "  ['ตลาดหลักทรัพย์', 'B-orgName'],\n",
       "  ['แห่ง', 'I-orgName'],\n",
       "  ['ประเทศ', 'I-orgName'],\n",
       "  ['ไทย', 'I-orgName']],\n",
       " [['ตลาดหลักทรัพย์', 'B-orgName'],\n",
       "  ['แห่ง', 'I-orgName'],\n",
       "  ['ประเทศ', 'I-orgName'],\n",
       "  ['ไทย', 'I-orgName']]]"
      ]
     },
     "execution_count": 11,
     "metadata": {},
     "output_type": "execute_result"
    }
   ],
   "source": [
    "list(iter(train))[6:9]"
   ]
  },
  {
   "cell_type": "code",
   "execution_count": null,
   "metadata": {},
   "outputs": [],
   "source": []
  },
  {
   "cell_type": "markdown",
   "metadata": {},
   "source": [
    "# Model"
   ]
  },
  {
   "cell_type": "code",
   "execution_count": 12,
   "metadata": {},
   "outputs": [],
   "source": [
    "from utils.data_generator import *\n",
    "from utils.conllevalscript import ConllevalScript\n",
    "Conlleval   = ConllevalScript(idx2word, idx2tag, word2idx['$UNK$'])"
   ]
  },
  {
   "cell_type": "code",
   "execution_count": 13,
   "metadata": {},
   "outputs": [],
   "source": [
    "class Config:\n",
    "    def __init__(self):\n",
    "        self.nwords   = len(word2idx)\n",
    "        self.dim_word = 400\n",
    "        self.hidden_size_lstm = 300\n",
    "\n",
    "        self.nchars   = len(char2idx)\n",
    "        self.dim_char = 128\n",
    "        self.dropout  = 0.5\n",
    "        self.hidden_size_char = 128\n",
    "\n",
    "        self.ntags = len(tag2idx)\n",
    "\n",
    "        self.lr = 1e-3\n",
    "        self.lr_decay = 1e-3\n",
    "        \n",
    "        self.batch_size = 3"
   ]
  },
  {
   "cell_type": "code",
   "execution_count": 14,
   "metadata": {},
   "outputs": [],
   "source": [
    "from models.crf import *\n",
    "class BiLSTM_CRF(nn.Module):\n",
    "\n",
    "    def __init__(self, config):\n",
    "        super().__init__()\n",
    "        self.config     = config\n",
    "\n",
    "        self.emb = nn.Embedding(self.config.nwords, self.config.dim_word, padding_idx=0)\n",
    "        self.char_embeddings = nn.Embedding(self.config.nchars, self.config.dim_char, padding_idx=0)\n",
    "        \n",
    "        self.char_lstm = nn.LSTM(self.config.dim_char, self.config.hidden_size_char, bidirectional=True)\n",
    "\n",
    "        self.dropout = nn.Dropout(p=self.config.dropout)\n",
    "        self.word_lstm = nn.LSTM(self.config.dim_word+2*self.config.hidden_size_char, self.config.hidden_size_lstm, bidirectional=True)\n",
    "\n",
    "        self.linear = LinearClassifier(self.config, layers=[self.config.hidden_size_lstm*2, self.config.ntags], drops=[0.5])\n",
    "\n",
    "\n",
    "    def forward(self, input):\n",
    "        # Word_dim = (batch_size x sent_length)\n",
    "        # char_dim = (batch_size x sent_length x word_length)\n",
    "\n",
    "        word_input, char_input = input[0], input[1]\n",
    "        word_input.transpose_(0,1)\n",
    "        \n",
    "        # Word Embedding\n",
    "        word_emb = self.emb(word_input) #shape= S*B*wnh\n",
    "\n",
    "        # Char LSTM\n",
    "        char_emb = self.char_embeddings(char_input.view(-1, char_input.size(2))) #https://stackoverflow.com/questions/47205762/embedding-3d-data-in-pytorch\n",
    "        char_emb = char_emb.view(*char_input.size(), -1) #dim = BxSxWxE\n",
    "\n",
    "        _, (h, c) = self.char_lstm(char_emb.view(-1, char_emb.size(2), char_emb.size(3)).transpose(0,1)) #(num_layers * num_directions, batch, hidden_size) = 2*BS*cnh\n",
    "        char_output = torch.cat((h[0], h[1]), 1) #shape = BS*2cnh\n",
    "        char_output = char_output.view(char_emb.size(0), char_emb.size(1), -1).transpose(0,1) #shape = S*B*2cnh\n",
    "\n",
    "        # Concat char output and word output\n",
    "        word_emb = torch.cat((word_emb, char_output), 2) #shape = S*B*(wnh+2cnh)\n",
    "        word_emb = self.dropout(word_emb)\n",
    "\n",
    "        output, (h, c) = self.word_lstm(word_emb) #shape = S*B*hidden_size_lstm\n",
    "        check_output = output\n",
    "        output = self.dropout(output)        \n",
    "        output = self.linear(output)\n",
    "        \n",
    "        return output #shape = S*B*ntags\n",
    "    \n",
    "    def forward_once(self, input):\n",
    "        output1 = self.forward(input)\n",
    "        output2 = self.forward(input)\n",
    "        \n",
    "\n",
    "class LinearBlock(nn.Module):\n",
    "    def __init__(self, ni, nf, drop):\n",
    "        super().__init__()\n",
    "        self.lin = nn.Linear(ni, nf)\n",
    "        self.drop = nn.Dropout(drop)\n",
    "        self.bn = nn.BatchNorm1d(ni)\n",
    "\n",
    "    def forward(self, x):\n",
    "        return self.lin(self.drop(self.bn(x)))\n",
    "\n",
    "\n",
    "class LinearClassifier(nn.Module):\n",
    "    def __init__(self, config, layers, drops):\n",
    "        self.config = config\n",
    "        super().__init__()\n",
    "        self.layers = nn.ModuleList([LinearBlock(layers[i], layers[i + 1], drops[i]) for i in range(len(layers) - 1)])\n",
    "\n",
    "    def forward(self, input):\n",
    "        output = input\n",
    "        sl,bs,_ = output.size()\n",
    "        x = output.view(-1, 2*self.config.hidden_size_lstm)\n",
    "\n",
    "        for l in self.layers:\n",
    "            l_x = l(x)\n",
    "            x = F.relu(l_x)\n",
    "        return l_x.view(sl, bs, self.config.ntags)"
   ]
  },
  {
   "cell_type": "code",
   "execution_count": 15,
   "metadata": {},
   "outputs": [],
   "source": [
    "def form_idx_input(inputs, targets, sequence_lengths):\n",
    "    targets     = T(targets, cuda=True).transpose(0,1).contiguous()\n",
    "\n",
    "    word_input  = T(inputs['word_ids'], cuda=True)\n",
    "    char_input  = T(inputs['char_ids'], cuda=True)\n",
    "\n",
    "    word_input  = Variable(word_input, requires_grad=False)\n",
    "    char_input  = Variable(char_input, requires_grad=False)\n",
    "    targets     = Variable(targets)\n",
    "\n",
    "    mask        = create_mask(sequence_lengths, targets, cuda=True)\n",
    "    inputs      = (word_input, char_input)\n",
    "    return inputs, mask, targets\n",
    "\n",
    "def input_format(inputs, targets, sequence_lengths, form='idx_input'):\n",
    "    \n",
    "    if form == 'idx_input':\n",
    "        return form_idx_input(inputs, targets, sequence_lengths)\n",
    "    \n",
    "    elif form == 'sent_pair':\n",
    "        return form_sent_pair(inputs, targets, sequence_lengths)\n",
    "    \n",
    "    elif form == 'word_input':\n",
    "        raise \"Implement !!!!\"\n",
    "        \n",
    "    else :\n",
    "        raise \"Input_format error !!! \""
   ]
  },
  {
   "cell_type": "markdown",
   "metadata": {},
   "source": [
    "# Initial model"
   ]
  },
  {
   "cell_type": "code",
   "execution_count": 16,
   "metadata": {},
   "outputs": [
    {
     "name": "stderr",
     "output_type": "stream",
     "text": [
      "/ist/users/weerayutb/models/baseline/test_hypothesis/BiLSTM_CRF02/models/crf.py:51: UserWarning: nn.init.uniform is now deprecated in favor of nn.init.uniform_.\n",
      "  nn.init.uniform(self.start_transitions, -0.1, 0.1)\n",
      "/ist/users/weerayutb/models/baseline/test_hypothesis/BiLSTM_CRF02/models/crf.py:52: UserWarning: nn.init.uniform is now deprecated in favor of nn.init.uniform_.\n",
      "  nn.init.uniform(self.end_transitions, -0.1, 0.1)\n",
      "/ist/users/weerayutb/models/baseline/test_hypothesis/BiLSTM_CRF02/models/crf.py:53: UserWarning: nn.init.uniform is now deprecated in favor of nn.init.uniform_.\n",
      "  nn.init.uniform(self.transitions, -0.1, 0.1)\n"
     ]
    }
   ],
   "source": [
    "config    = Config()\n",
    "model     = BiLSTM_CRF(config).cuda()\n",
    "optimizer = optim.SGD(model.parameters(), lr=config.lr, weight_decay=config.lr_decay)\n",
    "criterion = CRF(config.ntags).cuda()"
   ]
  },
  {
   "cell_type": "code",
   "execution_count": 17,
   "metadata": {},
   "outputs": [],
   "source": [
    "# from gensim.models import KeyedVectors\n",
    "# embedding_path = \"/ist/users/weerayutb/embedding/ulmfit_social_wiki_prachathai.vec\"\n",
    "# ulmfit_emb     = KeyedVectors.load_word2vec_format(f'{embedding_path}', binary=False, unicode_errors = 'ignore')\n",
    "# ulmfit_vocab   = list(ulmfit_emb.vocab)\n",
    "# ulmfit_dim     = 400\n",
    "\n",
    "# pre_train_weigths = np.zeros([len(word_to_idx), ulmfit_dim])\n",
    "# for word in word_to_idx:\n",
    "#     if word in ulmfit_vocab:\n",
    "#         pre_train_weigths[word_to_idx[word]] = np.asarray(ulmfit_emb[word])\n",
    "\n",
    "# sum(sum(pre_train_weigths)) # -36.36466901099368"
   ]
  },
  {
   "cell_type": "code",
   "execution_count": 18,
   "metadata": {},
   "outputs": [],
   "source": [
    "# ## From pre_train embedding\n",
    "# weight = torch.tensor(pre_train_weigths)\n",
    "\n",
    "# # Initail UNK with mean of all embedding \n",
    "# weight[word_to_idx[UNK]] = torch.mean(weight,dim=0)\n",
    "\n",
    "# # Load embedding to model\n",
    "# model.embedding.weight.data.copy_(nn.Parameter(weight)).cuda()\n",
    "# # model.embedding.weight[word_to_idx[UNK]]"
   ]
  },
  {
   "cell_type": "code",
   "execution_count": 19,
   "metadata": {},
   "outputs": [],
   "source": [
    "def test( nbatches_val, val_generator, fine_tune=False):\n",
    "        model.eval()\n",
    "        accs          = []\n",
    "        test_loss     = 0\n",
    "        correct_preds = 0\n",
    "        total_correct = 0\n",
    "        total_preds   = 0\n",
    "        total_step    = None\n",
    "\n",
    "        FILE = open('eval.pred', \"w\", encoding='utf-8')\n",
    "        for batch_idx, (inputs, targets, sequence_lengths) in enumerate(val_generator):\n",
    "            total_step   = batch_idx\n",
    "            if batch_idx == nbatches_val: break\n",
    "            if inputs['word_ids'].shape[1] == 1: continue\n",
    "\n",
    "            batch_inputs, mask, batch_targets = input_format(inputs, targets, sequence_lengths, form='idx_input')\n",
    "            outputs = model(batch_inputs)\n",
    "            \n",
    "            # Get CRF Loss\n",
    "            loss = -1*criterion(outputs, batch_targets, mask=mask)\n",
    "\n",
    "            # Callbacks\n",
    "            test_loss  += loss.item()\n",
    "            predictions = criterion.decode(outputs, mask=mask)\n",
    "\n",
    "            # Save batch_training to conlleval format \n",
    "            batch_training_text = Conlleval.convert_idx_to_text( inputs['word_ids'], sequence_lengths, status='word') # For save conlleval \n",
    "            batch_tag_text      = Conlleval.convert_idx_to_text(targets, sequence_lengths, status='tag')\n",
    "            preds_text          = Conlleval.convert_idx_to_text(predictions, sequence_lengths, status='pred')\n",
    "            Conlleval.save_conlleval_format(batch_training_text, batch_tag_text, preds_text, FILE)\n",
    "\n",
    "        FILE.close()\n",
    "        !cat eval.pred | ./conlleval.pl"
   ]
  },
  {
   "cell_type": "markdown",
   "metadata": {},
   "source": [
    "# dev"
   ]
  },
  {
   "cell_type": "code",
   "execution_count": 20,
   "metadata": {},
   "outputs": [
    {
     "name": "stderr",
     "output_type": "stream",
     "text": [
      "/ist/users/weerayutb/models/baseline/test_hypothesis/BiLSTM_CRF02/utils/data_generator.py:12: UserWarning: This overload of cuda is deprecated:\n",
      "\tcuda(torch.device device, bool async, *, torch.memory_format memory_format)\n",
      "Consider using one of the following signatures instead:\n",
      "\tcuda(torch.device device, bool non_blocking, *, torch.memory_format memory_format) (Triggered internally at  /opt/conda/conda-bld/pytorch_1595629427286/work/torch/csrc/utils/python_arg_parser.cpp:766.)\n",
      "  return x.cuda(*args, **kwargs) if USE_GPU else x\n"
     ]
    },
    {
     "name": "stdout",
     "output_type": "stream",
     "text": [
      "processed 14907 tokens with 513 phrases; found: 6751 phrases; correct: 60.\r\n",
      "accuracy:  28.26%; precision:   0.89%; recall:  11.70%; FB1:   1.65\r\n",
      "          orgName: precision:   1.33%; recall:   8.19%; FB1:   2.29  1428\r\n",
      "         persName: precision:   0.04%; recall:   0.69%; FB1:   0.08  2321\r\n",
      "        placeName: precision:   1.33%; recall:  29.20%; FB1:   2.55  3002\r\n"
     ]
    }
   ],
   "source": [
    "# Dev\n",
    "nbatches_dev, dev_generator = batch_iter(devset, 5, return_lengths=True)\n",
    "test(nbatches_dev, dev_generator)"
   ]
  },
  {
   "cell_type": "markdown",
   "metadata": {},
   "source": [
    "# Test"
   ]
  },
  {
   "cell_type": "code",
   "execution_count": 21,
   "metadata": {},
   "outputs": [
    {
     "name": "stdout",
     "output_type": "stream",
     "text": [
      "processed 14064 tokens with 522 phrases; found: 6327 phrases; correct: 56.\r\n",
      "accuracy:  28.38%; precision:   0.89%; recall:  10.73%; FB1:   1.64\r\n",
      "          orgName: precision:   1.44%; recall:   8.23%; FB1:   2.45  1323\r\n",
      "         persName: precision:   0.00%; recall:   0.00%; FB1:   0.00  2105\r\n",
      "        placeName: precision:   1.28%; recall:  22.98%; FB1:   2.42  2899\r\n"
     ]
    }
   ],
   "source": [
    "# Dev\n",
    "nbatches_test, test_generator = batch_iter(testset, 5, return_lengths=True)\n",
    "test(nbatches_test, test_generator)"
   ]
  },
  {
   "cell_type": "code",
   "execution_count": null,
   "metadata": {},
   "outputs": [],
   "source": []
  },
  {
   "cell_type": "code",
   "execution_count": 22,
   "metadata": {},
   "outputs": [],
   "source": [
    "def training(epoch, nbatches_train, train_generator, fine_tune=False):\n",
    "    model.train()\n",
    "    train_loss = 0\n",
    "    correct = 0\n",
    "    total = 0\n",
    "    total_step = None\n",
    "\n",
    "    for batch_idx, (inputs, targets, sequence_lengths) in enumerate(train_generator):\n",
    "\n",
    "        if batch_idx == nbatches_train     : break\n",
    "        if inputs['word_ids'].shape[0] == 1: continue\n",
    "        total_step = batch_idx\n",
    "        \n",
    "        optimizer.zero_grad()\n",
    "        \n",
    "        # Edit this \n",
    "        batch_inputs, mask, targets = input_format(inputs, targets, sequence_lengths, form='idx_input')\n",
    "        outputs                     = model(batch_inputs)\n",
    "\n",
    "#         pdb.set_trace()\n",
    "        # Get CRF Loss\n",
    "        loss = -1*criterion(outputs, targets, mask=mask)\n",
    "        loss.backward()\n",
    "        optimizer.step()\n",
    "\n",
    "        # Callbacks\n",
    "        train_loss += loss.item()\n",
    "        predictions = criterion.decode(outputs, mask=mask)\n",
    "                \n",
    "    print(train_loss/batch_idx)"
   ]
  },
  {
   "cell_type": "code",
   "execution_count": 23,
   "metadata": {},
   "outputs": [],
   "source": [
    "def fit(epochs, nbatches_train, train_generator):    \n",
    "    for epoch in range(1, epochs+1):\n",
    "        print(f\"Epoch: {epoch}\")\n",
    "\n",
    "        # Train\n",
    "        training(epoch, nbatches_train, train_generator, fine_tune = False)\n",
    "        \n",
    "        # Dev\n",
    "        nbatches_dev, dev_generator = batch_iter(devset, 32, return_lengths=True)\n",
    "        test(nbatches_dev, dev_generator)"
   ]
  },
  {
   "cell_type": "markdown",
   "metadata": {},
   "source": [
    "# Train"
   ]
  },
  {
   "cell_type": "code",
   "execution_count": 24,
   "metadata": {
    "scrolled": false
   },
   "outputs": [
    {
     "name": "stdout",
     "output_type": "stream",
     "text": [
      "Epoch: 1\n",
      "38.01362424655769\n",
      "processed 14907 tokens with 513 phrases; found: 384 phrases; correct: 59.\n",
      "accuracy:  92.64%; precision:  15.36%; recall:  11.50%; FB1:  13.15\n",
      "          orgName: precision:  12.75%; recall:   5.60%; FB1:   7.78  102\n",
      "         persName: precision:  12.44%; recall:  17.36%; FB1:  14.49  201\n",
      "        placeName: precision:  25.93%; recall:  15.33%; FB1:  19.27  81\n",
      "Epoch: 2\n",
      "26.28594280155472\n",
      "processed 14907 tokens with 513 phrases; found: 392 phrases; correct: 114.\n",
      "accuracy:  93.47%; precision:  29.08%; recall:  22.22%; FB1:  25.19\n",
      "          orgName: precision:  22.50%; recall:  11.64%; FB1:  15.34  120\n",
      "         persName: precision:  29.59%; recall:  34.72%; FB1:  31.95  169\n",
      "        placeName: precision:  35.92%; recall:  27.01%; FB1:  30.83  103\n",
      "Epoch: 3\n",
      "22.131348686234762\n",
      "processed 14907 tokens with 513 phrases; found: 430 phrases; correct: 138.\n",
      "accuracy:  94.17%; precision:  32.09%; recall:  26.90%; FB1:  29.27\n",
      "          orgName: precision:  27.41%; recall:  15.95%; FB1:  20.16  135\n",
      "         persName: precision:  29.27%; recall:  41.67%; FB1:  34.38  205\n",
      "        placeName: precision:  45.56%; recall:  29.93%; FB1:  36.12  90\n",
      "Epoch: 4\n",
      "19.545653671541842\n",
      "processed 14907 tokens with 513 phrases; found: 520 phrases; correct: 169.\n",
      "accuracy:  94.63%; precision:  32.50%; recall:  32.94%; FB1:  32.72\n",
      "          orgName: precision:  29.14%; recall:  21.98%; FB1:  25.06  175\n",
      "         persName: precision:  25.74%; recall:  42.36%; FB1:  32.02  237\n",
      "        placeName: precision:  52.78%; recall:  41.61%; FB1:  46.53  108\n",
      "Epoch: 5\n",
      "17.47285333512976\n",
      "processed 14907 tokens with 513 phrases; found: 457 phrases; correct: 192.\n",
      "accuracy:  95.06%; precision:  42.01%; recall:  37.43%; FB1:  39.59\n",
      "          orgName: precision:  35.85%; recall:  24.57%; FB1:  29.16  159\n",
      "         persName: precision:  39.57%; recall:  51.39%; FB1:  44.71  187\n",
      "        placeName: precision:  54.95%; recall:  44.53%; FB1:  49.19  111\n",
      "Epoch: 6\n",
      "16.39429141823396\n",
      "processed 14907 tokens with 513 phrases; found: 474 phrases; correct: 191.\n",
      "accuracy:  95.09%; precision:  40.30%; recall:  37.23%; FB1:  38.70\n",
      "          orgName: precision:  43.98%; recall:  31.47%; FB1:  36.68  166\n",
      "         persName: precision:  28.99%; recall:  41.67%; FB1:  34.19  207\n",
      "        placeName: precision:  57.43%; recall:  42.34%; FB1:  48.74  101\n",
      "Epoch: 7\n",
      "15.217685366996845\n",
      "processed 14907 tokens with 513 phrases; found: 466 phrases; correct: 204.\n",
      "accuracy:  95.39%; precision:  43.78%; recall:  39.77%; FB1:  41.68\n",
      "          orgName: precision:  45.73%; recall:  32.33%; FB1:  37.88  164\n",
      "         persName: precision:  33.68%; recall:  44.44%; FB1:  38.32  190\n",
      "        placeName: precision:  58.04%; recall:  47.45%; FB1:  52.21  112\n",
      "Epoch: 8\n",
      "14.071523250593033\n",
      "processed 14907 tokens with 513 phrases; found: 436 phrases; correct: 224.\n",
      "accuracy:  95.74%; precision:  51.38%; recall:  43.66%; FB1:  47.21\n",
      "          orgName: precision:  50.31%; recall:  34.91%; FB1:  41.22  161\n",
      "         persName: precision:  48.19%; recall:  55.56%; FB1:  51.61  166\n",
      "        placeName: precision:  57.80%; recall:  45.99%; FB1:  51.22  109\n",
      "Epoch: 9\n",
      "12.866893327772411\n",
      "processed 14907 tokens with 513 phrases; found: 457 phrases; correct: 254.\n",
      "accuracy:  96.16%; precision:  55.58%; recall:  49.51%; FB1:  52.37\n",
      "          orgName: precision:  51.61%; recall:  41.38%; FB1:  45.93  186\n",
      "         persName: precision:  56.95%; recall:  59.72%; FB1:  58.31  151\n",
      "        placeName: precision:  60.00%; recall:  52.55%; FB1:  56.03  120\n",
      "Epoch: 10\n",
      "12.1221941076348\n",
      "processed 14907 tokens with 513 phrases; found: 448 phrases; correct: 258.\n",
      "accuracy:  96.16%; precision:  57.59%; recall:  50.29%; FB1:  53.69\n",
      "          orgName: precision:  57.31%; recall:  42.24%; FB1:  48.64  171\n",
      "         persName: precision:  50.94%; recall:  56.25%; FB1:  53.47  159\n",
      "        placeName: precision:  66.95%; recall:  57.66%; FB1:  61.96  118\n",
      "Epoch: 11\n",
      "11.322211517182188\n",
      "processed 14907 tokens with 513 phrases; found: 453 phrases; correct: 272.\n",
      "accuracy:  96.42%; precision:  60.04%; recall:  53.02%; FB1:  56.31\n",
      "          orgName: precision:  61.93%; recall:  46.98%; FB1:  53.43  176\n",
      "         persName: precision:  55.84%; recall:  59.72%; FB1:  57.72  154\n",
      "        placeName: precision:  62.60%; recall:  56.20%; FB1:  59.23  123\n",
      "Epoch: 12\n",
      "10.569388272853047\n",
      "processed 14907 tokens with 513 phrases; found: 467 phrases; correct: 287.\n",
      "accuracy:  96.54%; precision:  61.46%; recall:  55.95%; FB1:  58.57\n",
      "          orgName: precision:  60.42%; recall:  50.00%; FB1:  54.72  192\n",
      "         persName: precision:  61.59%; recall:  64.58%; FB1:  63.05  151\n",
      "        placeName: precision:  62.90%; recall:  56.93%; FB1:  59.77  124\n",
      "Epoch: 13\n",
      "10.053624502927788\n",
      "processed 14907 tokens with 513 phrases; found: 458 phrases; correct: 290.\n",
      "accuracy:  96.68%; precision:  63.32%; recall:  56.53%; FB1:  59.73\n",
      "          orgName: precision:  62.03%; recall:  50.00%; FB1:  55.37  187\n",
      "         persName: precision:  62.67%; recall:  65.28%; FB1:  63.95  150\n",
      "        placeName: precision:  66.12%; recall:  58.39%; FB1:  62.02  121\n",
      "Epoch: 14\n",
      "9.741338239821596\n",
      "processed 14907 tokens with 513 phrases; found: 479 phrases; correct: 297.\n",
      "accuracy:  96.77%; precision:  62.00%; recall:  57.89%; FB1:  59.88\n",
      "          orgName: precision:  62.00%; recall:  53.45%; FB1:  57.41  200\n",
      "         persName: precision:  59.21%; recall:  62.50%; FB1:  60.81  152\n",
      "        placeName: precision:  65.35%; recall:  60.58%; FB1:  62.88  127\n",
      "Epoch: 15\n",
      "9.153765065034781\n",
      "processed 14907 tokens with 513 phrases; found: 482 phrases; correct: 312.\n",
      "accuracy:  96.80%; precision:  64.73%; recall:  60.82%; FB1:  62.71\n",
      "          orgName: precision:  64.36%; recall:  56.03%; FB1:  59.91  202\n",
      "         persName: precision:  61.84%; recall:  65.28%; FB1:  63.51  152\n",
      "        placeName: precision:  68.75%; recall:  64.23%; FB1:  66.42  128\n",
      "Epoch: 16\n",
      "8.611817250202272\n",
      "processed 14907 tokens with 513 phrases; found: 455 phrases; correct: 304.\n",
      "accuracy:  96.85%; precision:  66.81%; recall:  59.26%; FB1:  62.81\n",
      "          orgName: precision:  64.92%; recall:  53.45%; FB1:  58.63  191\n",
      "         persName: precision:  68.28%; recall:  68.75%; FB1:  68.51  145\n",
      "        placeName: precision:  68.07%; recall:  59.12%; FB1:  63.28  119\n",
      "Epoch: 17\n",
      "8.179485415092389\n",
      "processed 14907 tokens with 513 phrases; found: 451 phrases; correct: 310.\n",
      "accuracy:  96.97%; precision:  68.74%; recall:  60.43%; FB1:  64.32\n",
      "          orgName: precision:  67.02%; recall:  55.17%; FB1:  60.52  191\n",
      "         persName: precision:  70.14%; recall:  70.14%; FB1:  70.14  144\n",
      "        placeName: precision:  69.83%; recall:  59.12%; FB1:  64.03  116\n",
      "Epoch: 18\n",
      "8.063395655897661\n",
      "processed 14907 tokens with 513 phrases; found: 461 phrases; correct: 317.\n",
      "accuracy:  97.16%; precision:  68.76%; recall:  61.79%; FB1:  65.09\n",
      "          orgName: precision:  69.74%; recall:  58.62%; FB1:  63.70  195\n",
      "         persName: precision:  68.24%; recall:  70.14%; FB1:  69.18  148\n",
      "        placeName: precision:  67.80%; recall:  58.39%; FB1:  62.75  118\n",
      "Epoch: 19\n",
      "7.616229594578792\n",
      "processed 14907 tokens with 513 phrases; found: 482 phrases; correct: 334.\n",
      "accuracy:  97.18%; precision:  69.29%; recall:  65.11%; FB1:  67.14\n",
      "          orgName: precision:  69.91%; recall:  65.09%; FB1:  67.41  216\n",
      "         persName: precision:  65.54%; recall:  67.36%; FB1:  66.44  148\n",
      "        placeName: precision:  72.88%; recall:  62.77%; FB1:  67.45  118\n",
      "Epoch: 20\n",
      "7.150350356184488\n",
      "processed 14907 tokens with 513 phrases; found: 486 phrases; correct: 343.\n",
      "accuracy:  97.32%; precision:  70.58%; recall:  66.86%; FB1:  68.67\n",
      "          orgName: precision:  70.91%; recall:  67.24%; FB1:  69.03  220\n",
      "         persName: precision:  70.55%; recall:  71.53%; FB1:  71.03  146\n",
      "        placeName: precision:  70.00%; recall:  61.31%; FB1:  65.37  120\n",
      "Epoch: 21\n",
      "7.021966686710767\n",
      "processed 14907 tokens with 513 phrases; found: 471 phrases; correct: 349.\n",
      "accuracy:  97.35%; precision:  74.10%; recall:  68.03%; FB1:  70.93\n",
      "          orgName: precision:  74.76%; recall:  67.67%; FB1:  71.04  210\n",
      "         persName: precision:  71.23%; recall:  72.22%; FB1:  71.72  146\n",
      "        placeName: precision:  76.52%; recall:  64.23%; FB1:  69.84  115\n",
      "Epoch: 22\n",
      "6.658674865445463\n",
      "processed 14907 tokens with 513 phrases; found: 475 phrases; correct: 344.\n",
      "accuracy:  97.30%; precision:  72.42%; recall:  67.06%; FB1:  69.64\n",
      "          orgName: precision:  72.17%; recall:  65.95%; FB1:  68.92  212\n",
      "         persName: precision:  68.71%; recall:  70.14%; FB1:  69.42  147\n",
      "        placeName: precision:  77.59%; recall:  65.69%; FB1:  71.15  116\n",
      "Epoch: 23\n",
      "6.412702923827518\n",
      "processed 14907 tokens with 513 phrases; found: 471 phrases; correct: 349.\n",
      "accuracy:  97.35%; precision:  74.10%; recall:  68.03%; FB1:  70.93\n",
      "          orgName: precision:  74.76%; recall:  67.67%; FB1:  71.04  210\n",
      "         persName: precision:  68.46%; recall:  70.83%; FB1:  69.62  149\n",
      "        placeName: precision:  80.36%; recall:  65.69%; FB1:  72.29  112\n",
      "Epoch: 24\n",
      "6.192373783118172\n",
      "processed 14907 tokens with 513 phrases; found: 480 phrases; correct: 357.\n",
      "accuracy:  97.46%; precision:  74.38%; recall:  69.59%; FB1:  71.90\n",
      "          orgName: precision:  73.73%; recall:  68.97%; FB1:  71.27  217\n",
      "         persName: precision:  70.27%; recall:  72.22%; FB1:  71.23  148\n",
      "        placeName: precision:  80.87%; recall:  67.88%; FB1:  73.81  115\n",
      "Epoch: 25\n",
      "5.895590244280013\n",
      "processed 14907 tokens with 513 phrases; found: 479 phrases; correct: 356.\n",
      "accuracy:  97.53%; precision:  74.32%; recall:  69.40%; FB1:  71.77\n",
      "          orgName: precision:  74.29%; recall:  67.24%; FB1:  70.59  210\n",
      "         persName: precision:  70.39%; recall:  74.31%; FB1:  72.30  152\n",
      "        placeName: precision:  79.49%; recall:  67.88%; FB1:  73.23  117\n",
      "Epoch: 26\n",
      "5.787491430873277\n",
      "processed 14907 tokens with 513 phrases; found: 477 phrases; correct: 353.\n",
      "accuracy:  97.51%; precision:  74.00%; recall:  68.81%; FB1:  71.31\n",
      "          orgName: precision:  74.63%; recall:  65.95%; FB1:  70.02  205\n",
      "         persName: precision:  71.05%; recall:  75.00%; FB1:  72.97  152\n",
      "        placeName: precision:  76.67%; recall:  67.15%; FB1:  71.60  120\n",
      "Epoch: 27\n",
      "5.719221244221328\n",
      "processed 14907 tokens with 513 phrases; found: 476 phrases; correct: 358.\n",
      "accuracy:  97.52%; precision:  75.21%; recall:  69.79%; FB1:  72.40\n",
      "          orgName: precision:  75.24%; recall:  68.10%; FB1:  71.49  210\n",
      "         persName: precision:  71.81%; recall:  74.31%; FB1:  73.04  149\n",
      "        placeName: precision:  79.49%; recall:  67.88%; FB1:  73.23  117\n",
      "Epoch: 28\n",
      "5.657700005080873\n",
      "processed 14907 tokens with 513 phrases; found: 471 phrases; correct: 350.\n",
      "accuracy:  97.52%; precision:  74.31%; recall:  68.23%; FB1:  71.14\n",
      "          orgName: precision:  73.43%; recall:  65.52%; FB1:  69.25  207\n",
      "         persName: precision:  71.43%; recall:  72.92%; FB1:  72.16  147\n",
      "        placeName: precision:  79.49%; recall:  67.88%; FB1:  73.23  117\n",
      "Epoch: 29\n",
      "5.207520085222581\n",
      "processed 14907 tokens with 513 phrases; found: 470 phrases; correct: 357.\n",
      "accuracy:  97.51%; precision:  75.96%; recall:  69.59%; FB1:  72.63\n",
      "          orgName: precision:  76.10%; recall:  67.24%; FB1:  71.40  205\n",
      "         persName: precision:  72.79%; recall:  74.31%; FB1:  73.54  147\n",
      "        placeName: precision:  79.66%; recall:  68.61%; FB1:  73.73  118\n",
      "Epoch: 30\n",
      "5.039048614798945\n",
      "processed 14907 tokens with 513 phrases; found: 467 phrases; correct: 357.\n",
      "accuracy:  97.50%; precision:  76.45%; recall:  69.59%; FB1:  72.86\n",
      "          orgName: precision:  75.12%; recall:  66.38%; FB1:  70.48  205\n",
      "         persName: precision:  75.86%; recall:  76.39%; FB1:  76.12  145\n",
      "        placeName: precision:  79.49%; recall:  67.88%; FB1:  73.23  117\n",
      "Epoch: 31\n",
      "5.010669261113995\n",
      "processed 14907 tokens with 513 phrases; found: 464 phrases; correct: 353.\n",
      "accuracy:  97.51%; precision:  76.08%; recall:  68.81%; FB1:  72.26\n",
      "          orgName: precision:  77.39%; recall:  66.38%; FB1:  71.46  199\n",
      "         persName: precision:  70.67%; recall:  73.61%; FB1:  72.11  150\n",
      "        placeName: precision:  80.87%; recall:  67.88%; FB1:  73.81  115\n",
      "Epoch: 32\n",
      "4.801670482826893\n",
      "processed 14907 tokens with 513 phrases; found: 474 phrases; correct: 352.\n",
      "accuracy:  97.53%; precision:  74.26%; recall:  68.62%; FB1:  71.33\n",
      "          orgName: precision:  73.91%; recall:  65.95%; FB1:  69.70  207\n",
      "         persName: precision:  71.33%; recall:  74.31%; FB1:  72.79  150\n",
      "        placeName: precision:  78.63%; recall:  67.15%; FB1:  72.44  117\n",
      "Epoch: 33\n",
      "4.488085613531225\n",
      "processed 14907 tokens with 513 phrases; found: 470 phrases; correct: 355.\n",
      "accuracy:  97.60%; precision:  75.53%; recall:  69.20%; FB1:  72.23\n",
      "          orgName: precision:  74.76%; recall:  67.67%; FB1:  71.04  210\n",
      "         persName: precision:  73.47%; recall:  75.00%; FB1:  74.23  147\n",
      "        placeName: precision:  79.65%; recall:  65.69%; FB1:  72.00  113\n",
      "Epoch: 34\n",
      "4.469624469436988\n",
      "processed 14907 tokens with 513 phrases; found: 456 phrases; correct: 354.\n",
      "accuracy:  97.61%; precision:  77.63%; recall:  69.01%; FB1:  73.07\n",
      "          orgName: precision:  79.79%; recall:  64.66%; FB1:  71.43  188\n",
      "         persName: precision:  73.97%; recall:  75.00%; FB1:  74.48  146\n",
      "        placeName: precision:  78.69%; recall:  70.07%; FB1:  74.13  122\n",
      "Epoch: 35\n",
      "4.218187709580656\n",
      "processed 14907 tokens with 513 phrases; found: 469 phrases; correct: 359.\n",
      "accuracy:  97.67%; precision:  76.55%; recall:  69.98%; FB1:  73.12\n",
      "          orgName: precision:  76.77%; recall:  65.52%; FB1:  70.70  198\n",
      "         persName: precision:  74.50%; recall:  77.08%; FB1:  75.77  149\n",
      "        placeName: precision:  78.69%; recall:  70.07%; FB1:  74.13  122\n",
      "Epoch: 36\n",
      "4.230706705766566\n",
      "processed 14907 tokens with 513 phrases; found: 472 phrases; correct: 362.\n",
      "accuracy:  97.65%; precision:  76.69%; recall:  70.57%; FB1:  73.50\n",
      "          orgName: precision:  76.47%; recall:  67.24%; FB1:  71.56  204\n",
      "         persName: precision:  73.03%; recall:  77.08%; FB1:  75.00  152\n",
      "        placeName: precision:  81.90%; recall:  69.34%; FB1:  75.10  116\n",
      "Epoch: 37\n",
      "4.122775798231673\n",
      "processed 14907 tokens with 513 phrases; found: 450 phrases; correct: 361.\n",
      "accuracy:  97.65%; precision:  80.22%; recall:  70.37%; FB1:  74.97\n",
      "          orgName: precision:  81.05%; recall:  66.38%; FB1:  72.99  190\n",
      "         persName: precision:  76.19%; recall:  77.78%; FB1:  76.98  147\n",
      "        placeName: precision:  84.07%; recall:  69.34%; FB1:  76.00  113\n",
      "Epoch: 38\n",
      "4.020896171409778\n",
      "processed 14907 tokens with 513 phrases; found: 460 phrases; correct: 358.\n",
      "accuracy:  97.72%; precision:  77.83%; recall:  69.79%; FB1:  73.59\n",
      "          orgName: precision:  78.68%; recall:  66.81%; FB1:  72.26  197\n",
      "         persName: precision:  73.83%; recall:  76.39%; FB1:  75.09  149\n",
      "        placeName: precision:  81.58%; recall:  67.88%; FB1:  74.10  114\n",
      "Epoch: 39\n",
      "3.903593040255114\n",
      "processed 14907 tokens with 513 phrases; found: 446 phrases; correct: 360.\n",
      "accuracy:  97.63%; precision:  80.72%; recall:  70.18%; FB1:  75.08\n",
      "          orgName: precision:  81.58%; recall:  66.81%; FB1:  73.46  190\n",
      "         persName: precision:  76.71%; recall:  77.78%; FB1:  77.24  146\n",
      "        placeName: precision:  84.55%; recall:  67.88%; FB1:  75.30  110\n",
      "Epoch: 40\n",
      "3.683029871498425\n",
      "processed 14907 tokens with 513 phrases; found: 452 phrases; correct: 370.\n",
      "accuracy:  97.75%; precision:  81.86%; recall:  72.12%; FB1:  76.68\n",
      "          orgName: precision:  83.68%; recall:  68.53%; FB1:  75.36  190\n",
      "         persName: precision:  79.17%; recall:  79.17%; FB1:  79.17  144\n",
      "        placeName: precision:  82.20%; recall:  70.80%; FB1:  76.08  118\n",
      "Epoch: 41\n",
      "3.862985967764805\n",
      "processed 14907 tokens with 513 phrases; found: 459 phrases; correct: 367.\n",
      "accuracy:  97.68%; precision:  79.96%; recall:  71.54%; FB1:  75.51\n",
      "          orgName: precision:  81.25%; recall:  67.24%; FB1:  73.58  192\n",
      "         persName: precision:  77.55%; recall:  79.17%; FB1:  78.35  147\n",
      "        placeName: precision:  80.83%; recall:  70.80%; FB1:  75.49  120\n",
      "Epoch: 42\n",
      "3.4707379174067485\n",
      "processed 14907 tokens with 513 phrases; found: 459 phrases; correct: 359.\n",
      "accuracy:  97.69%; precision:  78.21%; recall:  69.98%; FB1:  73.87\n",
      "          orgName: precision:  79.59%; recall:  67.24%; FB1:  72.90  196\n",
      "         persName: precision:  74.32%; recall:  76.39%; FB1:  75.34  148\n",
      "        placeName: precision:  80.87%; recall:  67.88%; FB1:  73.81  115\n",
      "Epoch: 43\n",
      "3.533552297671361\n",
      "processed 14907 tokens with 513 phrases; found: 455 phrases; correct: 362.\n",
      "accuracy:  97.65%; precision:  79.56%; recall:  70.57%; FB1:  74.79\n",
      "          orgName: precision:  82.29%; recall:  68.10%; FB1:  74.53  192\n",
      "         persName: precision:  73.29%; recall:  74.31%; FB1:  73.79  146\n",
      "        placeName: precision:  82.91%; recall:  70.80%; FB1:  76.38  117\n",
      "Epoch: 44\n",
      "3.4788596260918876\n",
      "processed 14907 tokens with 513 phrases; found: 452 phrases; correct: 362.\n",
      "accuracy:  97.65%; precision:  80.09%; recall:  70.57%; FB1:  75.03\n",
      "          orgName: precision:  81.77%; recall:  67.67%; FB1:  74.06  192\n",
      "         persName: precision:  74.32%; recall:  76.39%; FB1:  75.34  148\n",
      "        placeName: precision:  84.82%; recall:  69.34%; FB1:  76.31  112\n",
      "Epoch: 45\n",
      "3.3884728771592507\n",
      "processed 14907 tokens with 513 phrases; found: 455 phrases; correct: 360.\n",
      "accuracy:  97.73%; precision:  79.12%; recall:  70.18%; FB1:  74.38\n",
      "          orgName: precision:  80.53%; recall:  65.95%; FB1:  72.51  190\n",
      "         persName: precision:  74.00%; recall:  77.08%; FB1:  75.51  150\n",
      "        placeName: precision:  83.48%; recall:  70.07%; FB1:  76.19  115\n",
      "Epoch: 46\n",
      "3.1312769300797405\n",
      "processed 14907 tokens with 513 phrases; found: 461 phrases; correct: 360.\n",
      "accuracy:  97.75%; precision:  78.09%; recall:  70.18%; FB1:  73.92\n",
      "          orgName: precision:  79.79%; recall:  66.38%; FB1:  72.47  193\n",
      "         persName: precision:  73.03%; recall:  77.08%; FB1:  75.00  152\n",
      "        placeName: precision:  81.90%; recall:  69.34%; FB1:  75.10  116\n",
      "Epoch: 47\n",
      "3.2538390345226933\n",
      "processed 14907 tokens with 513 phrases; found: 465 phrases; correct: 369.\n",
      "accuracy:  97.80%; precision:  79.35%; recall:  71.93%; FB1:  75.46\n",
      "          orgName: precision:  79.61%; recall:  70.69%; FB1:  74.89  206\n",
      "         persName: precision:  76.35%; recall:  78.47%; FB1:  77.40  148\n",
      "        placeName: precision:  82.88%; recall:  67.15%; FB1:  74.19  111\n",
      "Epoch: 48\n",
      "3.0819409083330096\n",
      "processed 14907 tokens with 513 phrases; found: 461 phrases; correct: 368.\n",
      "accuracy:  97.77%; precision:  79.83%; recall:  71.73%; FB1:  75.56\n",
      "          orgName: precision:  81.31%; recall:  69.40%; FB1:  74.88  198\n",
      "         persName: precision:  75.17%; recall:  77.78%; FB1:  76.45  149\n",
      "        placeName: precision:  83.33%; recall:  69.34%; FB1:  75.70  114\n",
      "Epoch: 49\n",
      "3.128424056261056\n",
      "processed 14907 tokens with 513 phrases; found: 465 phrases; correct: 372.\n",
      "accuracy:  97.81%; precision:  80.00%; recall:  72.51%; FB1:  76.07\n",
      "          orgName: precision:  81.91%; recall:  70.26%; FB1:  75.64  199\n",
      "         persName: precision:  74.17%; recall:  77.78%; FB1:  75.93  151\n",
      "        placeName: precision:  84.35%; recall:  70.80%; FB1:  76.98  115\n",
      "Epoch: 50\n",
      "2.8913466027038734\n",
      "processed 14907 tokens with 513 phrases; found: 461 phrases; correct: 371.\n",
      "accuracy:  97.82%; precision:  80.48%; recall:  72.32%; FB1:  76.18\n",
      "          orgName: precision:  81.87%; recall:  68.10%; FB1:  74.35  193\n",
      "         persName: precision:  76.51%; recall:  79.17%; FB1:  77.82  149\n",
      "        placeName: precision:  83.19%; recall:  72.26%; FB1:  77.34  119\n"
     ]
    }
   ],
   "source": [
    "nbatches_train, train_generator = batch_iter(trainset, config.batch_size, return_lengths=True)\n",
    "fit(50, nbatches_train, train_generator)"
   ]
  },
  {
   "cell_type": "code",
   "execution_count": 25,
   "metadata": {},
   "outputs": [
    {
     "name": "stdout",
     "output_type": "stream",
     "text": [
      "processed 14064 tokens with 522 phrases; found: 495 phrases; correct: 371.\r\n",
      "accuracy:  97.34%; precision:  74.95%; recall:  71.07%; FB1:  72.96\r\n",
      "          orgName: precision:  71.30%; recall:  68.83%; FB1:  70.04  223\r\n",
      "         persName: precision:  77.52%; recall:  76.92%; FB1:  77.22  129\r\n",
      "        placeName: precision:  78.32%; recall:  69.57%; FB1:  73.68  143\r\n"
     ]
    }
   ],
   "source": [
    "# Test\n",
    "nbatches_test, test_generator = batch_iter(testset, 5, return_lengths=True)\n",
    "test(nbatches_test, test_generator)"
   ]
  },
  {
   "cell_type": "code",
   "execution_count": 26,
   "metadata": {},
   "outputs": [],
   "source": [
    "nbatches_test, test_generator = batch_iter(testset, 5, return_lengths=True)"
   ]
  },
  {
   "cell_type": "code",
   "execution_count": 27,
   "metadata": {},
   "outputs": [],
   "source": [
    "# for x in test_generator:\n",
    "#     print(x[0]['char_ids'][0])\n",
    "#     break"
   ]
  },
  {
   "cell_type": "code",
   "execution_count": null,
   "metadata": {},
   "outputs": [],
   "source": [
    "list(iter(dev_generator))[0]"
   ]
  },
  {
   "cell_type": "code",
   "execution_count": null,
   "metadata": {},
   "outputs": [],
   "source": []
  }
 ],
 "metadata": {
  "kernelspec": {
   "display_name": "baseline",
   "language": "python",
   "name": "baseline"
  },
  "language_info": {
   "codemirror_mode": {
    "name": "ipython",
    "version": 3
   },
   "file_extension": ".py",
   "mimetype": "text/x-python",
   "name": "python",
   "nbconvert_exporter": "python",
   "pygments_lexer": "ipython3",
   "version": "3.6.12"
  }
 },
 "nbformat": 4,
 "nbformat_minor": 4
}
